{
 "cells": [
  {
   "cell_type": "markdown",
   "metadata": {},
   "source": [
    "# Instructions\n",
    "[GEOG INSTRUCTION LINK](https://www.geog.leeds.ac.uk/courses/computing/study/core-python-phd/assessment2/death.html)\n",
    "\n",
    "Imagine that you are an epidemiologist looking back at the Black Death outbreak in [1665](https://en.wikipedia.org/wiki/Great_Plague_of_London). You want to calculate the total deaths from the disease using historical figures of rat populations (recorded by the local rat catchers) and the population density (derived from the parish records).\n",
    "\n",
    "You know from small scale studies that the relationship between <b>average rats caught per week per 100m x 100m square <i>(r)</i></b>, <b>average population density per 100m x 100m square<i>(p)</i></b> and <b>average deaths per week per 100m x 100m square<i>(d)</i></b> is...\n",
    "\n",
    "<b>d = (0.8 x r) x (1.3 x p)</b>\n",
    "\n",
    "You have files containing a raster map of average population densities per 100m x 100m square for 16 square parishes in London. You also have an area map of average rats caught per week per 100m x 100m square for each rat catcher's area of work. These are stored as text digits. One value represents a 100m x 100m square area, but <b>the figures are averaged at the Parish or Rat Catcher area scale</b> and then smoothly distributed between the appropriate individual areas.\n",
    "\n",
    "## Instructions\n",
    "Write a Jupyter Notebook that does the following.\n",
    "<ol>\n",
    "<li> [X] Pulls in the two maps and puts them on the screen. Each pixel will represent a 100m x 100m square area.</li>\n",
    "<li> [X] Calculates a map showing average deaths per 100m x 100m square area for the different geographical regions produced by the intersection of the two images.</li>\n",
    "I.e. run through the maps and pull out the values for each pair of equivalently positioned cells. Put them through the equation above to produce a two dimensional array of absolute deaths that you can convert into an Image mapping the deaths.\n",
    "<li> [X] Displays the three maps.</li>\n",
    "<li> [X] Saves the death map as a text file of absolute deaths. Each line should equal a line on the map.</li>\n",
    "<li> [X] Displays the total deaths per week.</li>\n",
    "<li> [ ] Allows the user to change the parameter weights for the equation (for example with a scrollbar).</li>\n",
    "</ol>\n",
    "\n",
    "## Files for this project.\n",
    "\n",
    "<b>2 x (400 by 400) raster maps</b> with blocks of <b>consistant average values</b> in them. One represents average rats caught for that area per and the other represents the average population density for the area.\n",
    "\n",
    "[death.parishes](https://www.geog.leeds.ac.uk/courses/computing/study/core-python-phd/assessment2/death.parishes) ([GIF version](https://www.geog.leeds.ac.uk/courses/computing/study/core-python-phd/assessment2/deathparishes.gif) for comparison - this should not be used in the project.)\n",
    "\n",
    "[death.rats](https://www.geog.leeds.ac.uk/courses/computing/study/core-python-phd/assessment2/death.rats) ([GIF version](https://www.geog.leeds.ac.uk/courses/computing/study/core-python-phd/assessment2/deathrats.gif) for comparison - this should not be used in the project.)\n",
    "\n",
    "The blocks are not the same in the two files. One represents parishes, the other the domains of the rat catchers. The information for both are stored as text numbers. <b>Each number represents a 100 x 100m area</b>. The values are laid out from the upper left to lower right of the raster image, with each line being a line of the rasters."
   ]
  },
  {
   "cell_type": "markdown",
   "metadata": {},
   "source": [
    "## 1. Display the Maps"
   ]
  },
  {
   "cell_type": "code",
   "execution_count": 169,
   "metadata": {},
   "outputs": [
    {
     "data": {
      "image/png": "[encoded data removed]",
      "text/plain": [
       "<Figure size 432x288 with 1 Axes>"
      ]
     },
     "metadata": {
      "needs_background": "light"
     },
     "output_type": "display_data"
    },
    {
     "data": {
      "image/png": "[encoded data removed]",
      "text/plain": [
       "<Figure size 432x288 with 1 Axes>"
      ]
     },
     "metadata": {
      "needs_background": "light"
     },
     "output_type": "display_data"
    }
   ],
   "source": [
    "# Import modules\n",
    "%matplotlib inline\n",
    "import matplotlib.pyplot as plt\n",
    "import csv\n",
    "\n",
    "# Model variables\n",
    "parishes = []\n",
    "rats =[]\n",
    "\n",
    "\n",
    "### Read Maps ###\n",
    "# Read parishes map\n",
    "with open('parishes.txt', newline='') as f1:\n",
    "    parishes_r = csv.reader(f1, quoting=csv.QUOTE_NONNUMERIC)\n",
    "    for row in parishes_r:\n",
    "        p_row_list = []\n",
    "        for value in row:\n",
    "            p_row_list.append(value)\n",
    "        parishes.append(p_row_list)\n",
    "        \n",
    "# Read rats map\n",
    "with open('rats.txt', newline='') as f2:\n",
    "    rats_r = csv.reader(f2, quoting=csv.QUOTE_NONNUMERIC)\n",
    "    for row in rats_r:\n",
    "        r_row_list = []\n",
    "        for value in row:\n",
    "            r_row_list.append(value)\n",
    "        rats.append(r_row_list)\n",
    "\n",
    "# Display maps\n",
    "plt.figure().add_subplot()\n",
    "plt.imshow(parishes)\n",
    "plt.title('Parishes')\n",
    "\n",
    "plt.figure().add_subplot()\n",
    "plt.imshow(rats)\n",
    "plt.title('Rats')\n",
    "\n",
    "plt.show()"
   ]
  },
  {
   "cell_type": "markdown",
   "metadata": {},
   "source": [
    "Trying another code"
   ]
  },
  {
   "cell_type": "markdown",
   "metadata": {},
   "source": [
    "## 2. Run through the Maps"
   ]
  },
  {
   "cell_type": "markdown",
   "metadata": {},
   "source": [
    "### 2.1 Multiplying each list d = (0.8 x r) x (1.3 x p)\n",
    "average rats caught per week per 100m x 100m square (r), average population density per 100m x 100m square(p) and average deaths per week per 100m x 100m square(d)"
   ]
  },
  {
   "cell_type": "code",
   "execution_count": 140,
   "metadata": {},
   "outputs": [
    {
     "name": "stdout",
     "output_type": "stream",
     "text": [
      "400 400 400 400\n"
     ]
    }
   ],
   "source": [
    "# density\n",
    "# a = 1.3 X p\n",
    "p = [[j*1.3 for j in i] for i in parishes]\n",
    "# print(p)\n",
    "\n",
    "r = [[j*0.8 for j in i] for i in rats]\n",
    "# print(r)       \n",
    "\n",
    "print((len(p)),(len(p[0])),(len(r)),(len(r[0])))"
   ]
  },
  {
   "cell_type": "code",
   "execution_count": 148,
   "metadata": {},
   "outputs": [
    {
     "name": "stdout",
     "output_type": "stream",
     "text": [
      "400\n",
      "400\n"
     ]
    }
   ],
   "source": [
    "# Multiplying 2d lists\n",
    "death = []\n",
    "for i in range(len(p)):\n",
    "    a = []\n",
    "    for j in range (len(p[0])):\n",
    "        b = p[i][j] * r[i][j]\n",
    "#         print('b', b)\n",
    "        a.append(b)\n",
    "#         print('a', a)\n",
    "    death.append(a)\n",
    "# print('Death', death)\n",
    "\n",
    "print(len(death))\n",
    "print(len(death[0]))"
   ]
  },
  {
   "cell_type": "markdown",
   "metadata": {},
   "source": [
    "## 3. Display the map"
   ]
  },
  {
   "cell_type": "code",
   "execution_count": 145,
   "metadata": {},
   "outputs": [
    {
     "data": {
      "text/plain": [
       "<matplotlib.image.AxesImage at 0x190121b1cd0>"
      ]
     },
     "execution_count": 145,
     "metadata": {},
     "output_type": "execute_result"
    },
    {
     "data": {
      "image/png": "[encoded data removed]",
      "text/plain": [
       "<Figure size 432x288 with 1 Axes>"
      ]
     },
     "metadata": {
      "needs_background": "light"
     },
     "output_type": "display_data"
    }
   ],
   "source": [
    "plt.imshow(death)"
   ]
  },
  {
   "cell_type": "markdown",
   "metadata": {},
   "source": [
    "## 4. Save the map as a text file"
   ]
  },
  {
   "cell_type": "code",
   "execution_count": 147,
   "metadata": {},
   "outputs": [],
   "source": [
    "with open('death.txt', 'w', newline='') as f3:     \n",
    "   death_w = csv.writer(f3)     \n",
    "   for row in death:         \n",
    "        death_w.writerow(row)"
   ]
  },
  {
   "cell_type": "code",
   "execution_count": 170,
   "metadata": {},
   "outputs": [
    {
     "data": {
      "text/plain": [
       "<matplotlib.image.AxesImage at 0x1901327d0d0>"
      ]
     },
     "execution_count": 170,
     "metadata": {},
     "output_type": "execute_result"
    },
    {
     "data": {
      "image/png": "[encoded data removed]",
      "text/plain": [
       "<Figure size 432x288 with 1 Axes>"
      ]
     },
     "metadata": {
      "needs_background": "light"
     },
     "output_type": "display_data"
    }
   ],
   "source": [
    "# Check the no. of rows and columns\n",
    "death2 = []\n",
    "with open('death.txt', newline='') as f4:\n",
    "    death_r = csv.reader(f4, quoting=csv.QUOTE_NONNUMERIC)\n",
    "    for row in death_r:\n",
    "        d2 = []\n",
    "        for value in row:\n",
    "            d2.append(value)\n",
    "        death2.append(d2)\n",
    "# print(death2)\n",
    "plt.imshow(death2)"
   ]
  },
  {
   "cell_type": "code",
   "execution_count": 164,
   "metadata": {},
   "outputs": [
    {
     "name": "stdout",
     "output_type": "stream",
     "text": [
      "400 400\n"
     ]
    },
    {
     "data": {
      "text/plain": [
       "True"
      ]
     },
     "execution_count": 164,
     "metadata": {},
     "output_type": "execute_result"
    }
   ],
   "source": [
    "# Check if death and death2 are equal\n",
    "\n",
    "print(len(death2), len(death2[0]))\n",
    "\n",
    "death == death2"
   ]
  },
  {
   "cell_type": "markdown",
   "metadata": {},
   "source": [
    "## 5. Display total death per week"
   ]
  },
  {
   "cell_type": "code",
   "execution_count": 156,
   "metadata": {},
   "outputs": [
    {
     "name": "stdout",
     "output_type": "stream",
     "text": [
      "1642932688.7995374 deaths per week\n"
     ]
    }
   ],
   "source": [
    "total_death = 0\n",
    "for i in range(len(death)):\n",
    "    for j in range(len(death[i])):\n",
    "        total_death += death[i][j]\n",
    "print(total_death, 'deaths per week')"
   ]
  },
  {
   "cell_type": "code",
   "execution_count": null,
   "metadata": {},
   "outputs": [],
   "source": []
  }
 ],
 "metadata": {
  "kernelspec": {
   "display_name": "Python 3",
   "language": "python",
   "name": "python3"
  },
  "language_info": {
   "codemirror_mode": {
    "name": "ipython",
    "version": 3
   },
   "file_extension": ".py",
   "mimetype": "text/x-python",
   "name": "python",
   "nbconvert_exporter": "python",
   "pygments_lexer": "ipython3",
   "version": "3.8.3"
  }
 },
 "nbformat": 4,
 "nbformat_minor": 4
}
