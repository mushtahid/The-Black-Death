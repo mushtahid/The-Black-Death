{
 "cells": [
  {
   "cell_type": "markdown",
   "metadata": {},
   "source": [
    "# Instructions\n",
    "[GEOG INSTRUCTION LINK](https://www.geog.leeds.ac.uk/courses/computing/study/core-python-phd/assessment2/death.html)\n",
    "\n",
    "Imagine that you are an epidemiologist looking back at the Black Death outbreak in 1665. You want to calculate the total deaths from the disease using historical figures of rat populations (recorded by the local rat catchers) and the population density (derived from the parish records).\n",
    "\n",
    "You know from small scale studies that the relationship between average rats caught per week per 100m x 100m square(r), average population density per 100m x 100m square(p) and average deaths per week per 100m x 100m square(d) is...\n",
    "\n",
    "<b>d = (0.8 x r) x (1.3 x p)</b>\n",
    "\n",
    "You have files containing a raster map of average population densities per 100m x 100m square for 16 square parishes in London. You also have an area map of average rats caught per week per 100m x 100m square for each rat catcher's area of work. These are stored as text digits. One value represents a 100m x 100m square area, but <b>the figures are averaged at the Parish or Rat Catcher area scale</b> and then smoothly distributed between the appropriate individual areas.\n",
    "\n",
    "## Instructions\n",
    "Write a Jupyter Notebook that does the following.\n",
    "\n",
    "- Pulls in the two maps and puts them on the screen. Each pixel will represent a 100m x 100m square area.\n",
    "- Calculates a map showing average deaths per 100m x 100m square area for the different geographical regions produced by the intersection of the two images.\n",
    "I.e. run through the maps and pull out the values for each pair of equivalently positioned cells. Put them through the equation above to produce a two dimensional array of absolute deaths that you can convert into an Image mapping the deaths.\n",
    "- Displays the three maps.\n",
    "- Saves the death map as a text file of absolute deaths. Each line should equal a line on the map.\n",
    "- Displays the total deaths per week.\n",
    "- Allows the user to change the parameter weights for the equation (for example with a scrollbar).\n",
    "\n",
    "## Files for this project.\n",
    "\n",
    "<b>2 x (400 by 400) raster maps</b> with blocks of <b>consistant average values</b> in them. One represents average rats caught for that area per and the other represents the average population density for the area.\n",
    "\n",
    "[death.parishes](https://www.geog.leeds.ac.uk/courses/computing/study/core-python-phd/assessment2/death.parishes) ([GIF version](https://www.geog.leeds.ac.uk/courses/computing/study/core-python-phd/assessment2/deathparishes.gif) for comparison - this should not be used in the project.)\n",
    "\n",
    "[death.rats](https://www.geog.leeds.ac.uk/courses/computing/study/core-python-phd/assessment2/death.rats) ([GIF version](https://www.geog.leeds.ac.uk/courses/computing/study/core-python-phd/assessment2/deathrats.gif) for comparison - this should not be used in the project.)\n",
    "\n",
    "The blocks are not the same in the two files. One represents parishes, the other the domains of the rat catchers. The information for both are stored as text numbers. <b>Each number represents a 100 x 100m area</b>. The values are laid out from the upper left to lower right of the raster image, with each line being a line of the rasters."
   ]
  },
  {
   "cell_type": "code",
   "execution_count": 37,
   "metadata": {},
   "outputs": [
    {
     "data": {
      "text/plain": [
       "<Figure size 432x288 with 0 Axes>"
      ]
     },
     "metadata": {},
     "output_type": "display_data"
    },
    {
     "data": {
      "image/png": "[encoded data removed]",
      "text/plain": [
       "<Figure size 432x288 with 1 Axes>"
      ]
     },
     "metadata": {
      "needs_background": "light"
     },
     "output_type": "display_data"
    },
    {
     "data": {
      "image/png": "[encoded data removed]",
      "text/plain": [
       "<Figure size 432x288 with 1 Axes>"
      ]
     },
     "metadata": {
      "needs_background": "light"
     },
     "output_type": "display_data"
    }
   ],
   "source": [
    "# Import modules\n",
    "import csv\n",
    "import matplotlib.pyplot as plt\n",
    "\n",
    "# Model variables\n",
    "parishes = []\n",
    "rats =[]\n",
    "\n",
    "### Read Maps ###\n",
    "# Read parishes map\n",
    "with open('parishes.txt', newline='') as f:\n",
    "    parishes_r = csv.reader(f, quoting=csv.QUOTE_NONNUMERIC)\n",
    "    for row in parishes_r:\n",
    "        p_row_list = []\n",
    "        for value in row:\n",
    "            p_row_list.append(value)\n",
    "        parishes.append(p_row_list)\n",
    "        \n",
    "# Read rats map\n",
    "with open('rats.txt', newline='') as f:\n",
    "    rats_r = csv.reader(f, quoting=csv.QUOTE_NONNUMERIC)\n",
    "    for row in rats_r:\n",
    "        r_row_list = []\n",
    "        for value in row:\n",
    "            r_row_list.append(value)\n",
    "        rats.append(r_row_list)\n",
    "\n",
    "# Display maps\n",
    "plt.figure()\n",
    "\n",
    "plt.figure().add_subplot()\n",
    "plt.imshow(parishes)\n",
    "plt.title('Parishes')\n",
    "\n",
    "plt.figure().add_subplot()\n",
    "plt.imshow(rats)\n",
    "plt.title('Rats')\n",
    "\n",
    "plt.show()"
   ]
  },
  {
   "cell_type": "code",
   "execution_count": null,
   "metadata": {},
   "outputs": [],
   "source": []
  }
 ],
 "metadata": {
  "kernelspec": {
   "display_name": "Python 3",
   "language": "python",
   "name": "python3"
  },
  "language_info": {
   "codemirror_mode": {
    "name": "ipython",
    "version": 3
   },
   "file_extension": ".py",
   "mimetype": "text/x-python",
   "name": "python",
   "nbconvert_exporter": "python",
   "pygments_lexer": "ipython3",
   "version": "3.8.3"
  }
 },
 "nbformat": 4,
 "nbformat_minor": 4
}
